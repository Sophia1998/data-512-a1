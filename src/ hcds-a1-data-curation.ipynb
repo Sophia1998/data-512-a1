{
 "cells": [
  {
   "cell_type": "markdown",
   "metadata": {},
   "source": [
    "# Step 1: Data acquisition"
   ]
  },
  {
   "cell_type": "markdown",
   "metadata": {},
   "source": [
    "This step is to collect data from two different API endpoints, the Legacy Pagecounts API and the Pageviews API.The Legacy Pagecounts API provides access to desktop and mobile traffic data from December 2007 through July 2016.The Pageviews API provides access to desktop, mobile web, and mobile app traffic data from July 2015 through last month. The raw data that are extracted from both APIs will eb stored in 5 json files under \"data\" folder. "
   ]
  },
  {
   "cell_type": "code",
   "execution_count": 1,
   "metadata": {},
   "outputs": [],
   "source": [
    "import pandas as pd\n",
    "import json\n",
    "import requests"
   ]
  },
  {
   "cell_type": "code",
   "execution_count": 2,
   "metadata": {},
   "outputs": [],
   "source": [
    "endpoint_legacy = 'https://wikimedia.org/api/rest_v1/metrics/legacy/pagecounts/aggregate/{project}/{access-site}/{granularity}/{start}/{end}'\n",
    "\n",
    "endpoint_pageviews = 'https://wikimedia.org/api/rest_v1/metrics/pageviews/aggregate/{project}/{access}/{agent}/{granularity}/{start}/{end}'"
   ]
  },
  {
   "cell_type": "code",
   "execution_count": 3,
   "metadata": {},
   "outputs": [],
   "source": [
    "# Parameters for getting aggregated legacy view data on desktop\n",
    "desktop_params_legacy = {\"project\" : \"en.wikipedia.org\",\n",
    "                 \"access-site\" : \"desktop-site\",\n",
    "                 \"granularity\" : \"monthly\",\n",
    "                 \"start\" : \"2007120100\",\n",
    "                # for end use 1st day of month following final month of data\n",
    "                 \"end\" : \"2016073100\"\n",
    "                    }\n",
    "# Parameters for getting aggregated legacy view data on mobile\n",
    "mobile_params_legacy = {\"project\" : \"en.wikipedia.org\",\n",
    "                 \"access-site\" : \"mobile-site\",\n",
    "                 \"granularity\" : \"monthly\",\n",
    "                 \"start\" : \"2007120100\",\n",
    "                # for end use 1st day of month following final month of data\n",
    "                 \"end\" : \"2016073100\"\n",
    "                    }\n",
    "\n",
    "# Parameters for getting aggregated current standard pageview data on desktop\n",
    "desktop_params_pageviews = {\"project\" : \"en.wikipedia.org\",\n",
    "                    \"access\" : \"desktop\",\n",
    "                    \"agent\" : \"user\",\n",
    "                    \"granularity\" : \"monthly\",\n",
    "                    \"start\" : \"2015070100\",\n",
    "                    # for end use 1st day of month following final month of data\n",
    "                    \"end\" : '2021093000'\n",
    "                        }\n",
    "# Parameters for getting aggregated current standard pageview data on mobile web\n",
    "mobileweb_params_pageviews = {\"project\" : \"en.wikipedia.org\",\n",
    "                    \"access\" : \"mobile-web\",\n",
    "                    \"agent\" : \"user\",\n",
    "                    \"granularity\" : \"monthly\",\n",
    "                    \"start\" : \"2015070100\",\n",
    "                    # for end use 1st day of month following final month of data\n",
    "                    \"end\" : '2021093000'\n",
    "                        }\n",
    "# Parameters for getting aggregated current standard pageview data on mobile app\n",
    "mobileapp_params_pageviews = {\"project\" : \"en.wikipedia.org\",\n",
    "                    \"access\" : \"mobile-app\",\n",
    "                    \"agent\" : \"user\",\n",
    "                    \"granularity\" : \"monthly\",\n",
    "                    \"start\" : \"2015070100\",\n",
    "                    # for end use 1st day of month following final month of data\n",
    "                    \"end\" : '2021093000'\n",
    "                        }\n",
    "headers = {\n",
    "    'User-Agent': 'https://github.com/Sophia1998',\n",
    "    'From': 'sophiart@uw.edu'\n",
    "}"
   ]
  },
  {
   "cell_type": "code",
   "execution_count": 4,
   "metadata": {},
   "outputs": [],
   "source": [
    "# This function is used to use parameters to extract raw data\n",
    "def api_call(endpoint,parameters):\n",
    "    call = requests.get(endpoint.format(**parameters), headers=headers)\n",
    "    response = call.json()\n",
    "    return response"
   ]
  },
  {
   "cell_type": "code",
   "execution_count": 5,
   "metadata": {},
   "outputs": [],
   "source": [
    "# This function is used to store raw data into json files\n",
    "def store_json_file(filename, data):\n",
    "    with open(filename, 'w') as file_object:\n",
    "         json.dump(data, file_object) "
   ]
  },
  {
   "cell_type": "code",
   "execution_count": 6,
   "metadata": {},
   "outputs": [],
   "source": [
    "# Extract raw data\n",
    "desktop_monthly_legacy = api_call(endpoint_legacy, desktop_params_legacy)\n",
    "mobile_monthly_legacy = api_call(endpoint_legacy, mobile_params_legacy)\n",
    "\n",
    "desktop_monthly_pageviews = api_call(endpoint_pageviews, desktop_params_pageviews)\n",
    "mobileweb_monthly_pageviews = api_call(endpoint_pageviews, mobileweb_params_pageviews)\n",
    "mobileapp_monthly_pageviews = api_call(endpoint_pageviews, mobileapp_params_pageviews)"
   ]
  },
  {
   "cell_type": "code",
   "execution_count": 7,
   "metadata": {},
   "outputs": [],
   "source": [
    "# Store raw data to json files\n",
    "store_json_file('data\\pagecounts_desktop-site_200712-201607.json', desktop_monthly_legacy)\n",
    "store_json_file('data\\pagecounts_mobile-site_200712-201607.json', mobile_monthly_legacy)\n",
    "\n",
    "store_json_file('data\\pageviews_desktop-site_201507-202109.json',desktop_monthly_pageviews)\n",
    "store_json_file('data\\pageviews_mobile-app-site_201507-202109.json',mobileapp_monthly_pageviews)\n",
    "store_json_file('data\\pageviews_mobile-web-site_201507-202109.json',mobileweb_monthly_pageviews)"
   ]
  },
  {
   "cell_type": "markdown",
   "metadata": {},
   "source": [
    "# Step 2: Data processing"
   ]
  },
  {
   "cell_type": "markdown",
   "metadata": {},
   "source": [
    "This step contains a series of processing steps on these data files in order to prepare them for analysis. After getting the raw data, I will need to convert the raw data to dataframes. Then I will drop the useless columns and merge these dataframes together. Eventually, I can store the processed data into a csv file under \"data\" folder. "
   ]
  },
  {
   "cell_type": "code",
   "execution_count": 8,
   "metadata": {},
   "outputs": [],
   "source": [
    "# Get the raw data from 'items' column\n",
    "mobileweb_pageviews_data = mobileweb_monthly_pageviews['items']\n",
    "mobileapp_pageviews_data = mobileapp_monthly_pageviews['items']\n",
    "desktop_pageviews_data = desktop_monthly_pageviews['items']\n",
    "desktop_pagecounts_data = desktop_monthly_legacy['items']\n",
    "mobile_pagecounts_data = mobile_monthly_legacy['items']\n",
    "\n",
    "# Covert to dataframes\n",
    "mw_pv_df = pd.DataFrame(mobileweb_pageviews_data)\n",
    "ma_pv_df = pd.DataFrame(mobileapp_pageviews_data)\n",
    "d_pv_df = pd.DataFrame(desktop_pageviews_data)\n",
    "m_pc_df = pd.DataFrame(mobile_pagecounts_data)\n",
    "d_pc_df = pd.DataFrame(desktop_pagecounts_data)"
   ]
  },
  {
   "cell_type": "code",
   "execution_count": 9,
   "metadata": {},
   "outputs": [
    {
     "name": "stdout",
     "output_type": "stream",
     "text": [
      "    timestamp  pageview_mobile_views\n",
      "0  2015070100             3288755294\n",
      "1  2015080100             3302333038\n",
      "2  2015090100             3170203333\n",
      "3  2015100100             3268499132\n",
      "4  2015110100             3236601070\n"
     ]
    }
   ],
   "source": [
    "m_pv_df = ma_pv_df.append(mw_pv_df)\n",
    "m_pv_df = m_pv_df.groupby('timestamp')['views'].sum().reset_index()\n",
    "m_pv_df.rename(columns={'views':'pageview_mobile_views'}, inplace=True)\n",
    "print(m_pv_df.head(5))"
   ]
  },
  {
   "cell_type": "code",
   "execution_count": 10,
   "metadata": {},
   "outputs": [
    {
     "name": "stdout",
     "output_type": "stream",
     "text": [
      "    timestamp  pageview_desktop_views\n",
      "0  2015070100              4376666686\n",
      "1  2015080100              4332482183\n",
      "2  2015090100              4485491704\n",
      "3  2015100100              4477532755\n",
      "4  2015110100              4287720220\n"
     ]
    }
   ],
   "source": [
    "d_pv_df = d_pv_df.drop(['project','access','agent','granularity'], axis = 1)\n",
    "d_pv_df.rename(columns={'views':'pageview_desktop_views'}, inplace=True)\n",
    "print(d_pv_df.head(5))"
   ]
  },
  {
   "cell_type": "code",
   "execution_count": 11,
   "metadata": {},
   "outputs": [
    {
     "name": "stdout",
     "output_type": "stream",
     "text": [
      "    timestamp  pagecount_desktop_views\n",
      "0  2007120100               2998331524\n",
      "1  2008010100               4930902570\n",
      "2  2008020100               4818393763\n",
      "3  2008030100               4955405809\n",
      "4  2008040100               5159162183\n"
     ]
    }
   ],
   "source": [
    "d_pc_df = d_pc_df.drop(['project','access-site','granularity'], axis = 1)\n",
    "d_pc_df.rename(columns={'count':'pagecount_desktop_views'}, inplace=True)\n",
    "print(d_pc_df.head(5))"
   ]
  },
  {
   "cell_type": "code",
   "execution_count": 12,
   "metadata": {},
   "outputs": [
    {
     "name": "stdout",
     "output_type": "stream",
     "text": [
      "    timestamp  pagecount_mobile_views\n",
      "0  2014100100              3091546685\n",
      "1  2014110100              3027489668\n",
      "2  2014120100              3278950021\n",
      "3  2015010100              3485302091\n",
      "4  2015020100              3091534479\n"
     ]
    }
   ],
   "source": [
    "m_pc_df = m_pc_df.drop(['project','access-site','granularity'], axis = 1)\n",
    "m_pc_df.rename(columns={'count':'pagecount_mobile_views'}, inplace=True)\n",
    "print(m_pc_df.head(5))"
   ]
  },
  {
   "cell_type": "code",
   "execution_count": 13,
   "metadata": {},
   "outputs": [],
   "source": [
    "wiki_df = m_pc_df.merge(d_pc_df, how='outer').fillna(0)"
   ]
  },
  {
   "cell_type": "code",
   "execution_count": 14,
   "metadata": {},
   "outputs": [],
   "source": [
    "sum_column = wiki_df[\"pagecount_mobile_views\"] + wiki_df[\"pagecount_desktop_views\"]\n",
    "wiki_df[\"pagecount_all_views\"] = sum_column"
   ]
  },
  {
   "cell_type": "code",
   "execution_count": 15,
   "metadata": {},
   "outputs": [],
   "source": [
    "wiki_df = wiki_df.merge(m_pv_df, how='outer').fillna(0)"
   ]
  },
  {
   "cell_type": "code",
   "execution_count": 16,
   "metadata": {},
   "outputs": [],
   "source": [
    "wiki_df = wiki_df.merge(d_pv_df,how = 'outer').fillna(0)"
   ]
  },
  {
   "cell_type": "code",
   "execution_count": 17,
   "metadata": {},
   "outputs": [],
   "source": [
    "sum_column = wiki_df[\"pageview_mobile_views\"] + wiki_df[\"pageview_desktop_views\"]\n",
    "wiki_df[\"pageview_all_views\"] = sum_column"
   ]
  },
  {
   "cell_type": "code",
   "execution_count": 18,
   "metadata": {},
   "outputs": [],
   "source": [
    "# Extract year and month from the timestamp\n",
    "temp_time = wiki_df['timestamp'].values\n",
    "year = []\n",
    "month = []\n",
    "for time in temp_time:\n",
    "    year.append(int(time[0:4]))\n",
    "    month.append(int(time[4:6]))\n",
    "wiki_df['year'] = year\n",
    "wiki_df['month'] = month\n",
    "wiki_df = wiki_df.drop(['timestamp'], axis = 1)"
   ]
  },
  {
   "cell_type": "code",
   "execution_count": 19,
   "metadata": {},
   "outputs": [
    {
     "name": "stdout",
     "output_type": "stream",
     "text": [
      "    year  month  pagecount_all_views  pagecount_desktop_views  \\\n",
      "22  2007     12         2.998332e+09             2.998332e+09   \n",
      "23  2008      1         4.930903e+09             4.930903e+09   \n",
      "24  2008      2         4.818394e+09             4.818394e+09   \n",
      "25  2008      3         4.955406e+09             4.955406e+09   \n",
      "26  2008      4         5.159162e+09             5.159162e+09   \n",
      "\n",
      "    pagecount_mobile_views  pageview_all_views  pageview_desktop_views  \\\n",
      "22                     0.0                 0.0                     0.0   \n",
      "23                     0.0                 0.0                     0.0   \n",
      "24                     0.0                 0.0                     0.0   \n",
      "25                     0.0                 0.0                     0.0   \n",
      "26                     0.0                 0.0                     0.0   \n",
      "\n",
      "    pageview_mobile_views  \n",
      "22                    0.0  \n",
      "23                    0.0  \n",
      "24                    0.0  \n",
      "25                    0.0  \n",
      "26                    0.0  \n"
     ]
    }
   ],
   "source": [
    "# Print out the dataframe after merged\n",
    "wiki_df = wiki_df.sort_values(by = ['year','month'])\n",
    "wiki_df = wiki_df[['year', 'month', 'pagecount_all_views', 'pagecount_desktop_views', 'pagecount_mobile_views','pageview_all_views','pageview_desktop_views','pageview_mobile_views']]\n",
    "print(wiki_df.head(5))"
   ]
  },
  {
   "cell_type": "code",
   "execution_count": 20,
   "metadata": {},
   "outputs": [],
   "source": [
    "# Store the data into a csv file\n",
    "wiki_df.to_csv('data/en-wikipedia_traffic_200712-202108.csv', index = False)"
   ]
  },
  {
   "cell_type": "markdown",
   "metadata": {},
   "source": [
    "# Step 3: Analysis"
   ]
  },
  {
   "cell_type": "markdown",
   "metadata": {},
   "source": [
    "This step is to visualize the dataset I have created in the previous step as a time series graph. My visualization will track three traffic metrics: mobile traffic, desktop traffic, and all traffic (mobile + desktop). In this visualization, traffic is calculated as the sum of pageviews and pagecounts. At the end of this step, I will generate a .png formatted image of my final visualization."
   ]
  },
  {
   "cell_type": "code",
   "execution_count": 21,
   "metadata": {},
   "outputs": [],
   "source": [
    "import seaborn as sns\n",
    "import matplotlib.pyplot as plt"
   ]
  },
  {
   "cell_type": "code",
   "execution_count": 22,
   "metadata": {},
   "outputs": [],
   "source": [
    "df = pd.read_csv('data/en-wikipedia_traffic_200712-202108.csv')"
   ]
  },
  {
   "cell_type": "code",
   "execution_count": 23,
   "metadata": {},
   "outputs": [],
   "source": [
    "# Combine 'year' and 'month' to datatime\n",
    "import datetime\n",
    "date = []\n",
    "for i in range(len(df['year'])):\n",
    "    date_temp = datetime.date(year=int(df['year'][i]), month=int(df['month'][i]), day=1)\n",
    "    date_temp = pd.to_datetime(date_temp)\n",
    "    date.append(date_temp)\n",
    "df['date'] = date\n",
    "df = df.set_index('date')"
   ]
  },
  {
   "cell_type": "code",
   "execution_count": 24,
   "metadata": {},
   "outputs": [],
   "source": [
    "# Calaulate mobile, desktop and mobile + desktop traffic\n",
    "df['mobile_traffic'] = df['pageview_mobile_views'] + df['pagecount_mobile_views']\n",
    "df['desktop_traffic'] = df['pageview_desktop_views'] + df['pagecount_desktop_views']\n",
    "df['all_traffic'] = df['pageview_all_views'] + df['pagecount_all_views']"
   ]
  },
  {
   "cell_type": "code",
   "execution_count": 26,
   "metadata": {},
   "outputs": [
    {
     "data": {
      "text/plain": [
       "<function matplotlib.pyplot.show(*args, **kw)>"
      ]
     },
     "execution_count": 26,
     "metadata": {},
     "output_type": "execute_result"
    },
    {
     "data": {
      "image/png": "[encoded data removed]",
      "text/plain": [
       "<Figure size 720x432 with 1 Axes>"
      ]
     },
     "metadata": {
      "needs_background": "light"
     },
     "output_type": "display_data"
    }
   ],
   "source": [
    "# Plot the visualization\n",
    "plt.figure(figsize=(10,6))\n",
    "plt.title('Wikipedia Traffic from 2008 to 2021')\n",
    "plt.plot(df['mobile_traffic'], label = \"Mobile Traffic\")\n",
    "plt.plot(df['desktop_traffic'], label = \"Desktop Traffic\")\n",
    "plt.plot(df['all_traffic'], label = \"Mobile + Desktop Traffic\",alpha = 0.6)\n",
    "plt.xlabel('Date')\n",
    "plt.ylabel('Traffic')\n",
    "plt.legend()\n",
    "plt.savefig('wikipedia traffic.png')\n",
    "plt.show"
   ]
  },
  {
   "cell_type": "code",
   "execution_count": null,
   "metadata": {},
   "outputs": [],
   "source": []
  },
  {
   "cell_type": "code",
   "execution_count": null,
   "metadata": {},
   "outputs": [],
   "source": []
  }
 ],
 "metadata": {
  "kernelspec": {
   "display_name": "Python 3",
   "language": "python",
   "name": "python3"
  },
  "language_info": {
   "codemirror_mode": {
    "name": "ipython",
    "version": 3
   },
   "file_extension": ".py",
   "mimetype": "text/x-python",
   "name": "python",
   "nbconvert_exporter": "python",
   "pygments_lexer": "ipython3",
   "version": "3.7.4"
  }
 },
 "nbformat": 4,
 "nbformat_minor": 2
}
